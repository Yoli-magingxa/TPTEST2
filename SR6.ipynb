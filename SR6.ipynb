{
 "cells": [
  {
   "cell_type": "markdown",
   "id": "cd593b60-89ca-4070-99bb-f6c7eb4c9e87",
   "metadata": {},
   "source": [
    "Complexity Analysis :\n",
    "\n",
    "In selection sort in terms of space complexity, it uses the constant space complexity O(1),it operates directly on the input array and requires only a constant amount of extra extra space for temporary variables.\n",
    "\n",
    "In terms of time complexit, selection sort demostrates a time complexity of O(n^2), making it inefficient for large datasets compared to more efficient sorting algorithms.\n",
    "\n",
    "Selection sort has a quadratic time complexity of O(n^2), which means its performance degrades rapidly with larger input sizes. This makes it inefficient for sorting large arrays or datasets.Despite its simplicity, selection sort is not suitable for large datasets due to its poor time complexity compared to more efficient sorting algorithms like merge sort or quicksort.\n",
    "\n"
   ]
  },
  {
   "cell_type": "code",
   "execution_count": null,
   "id": "09b72429-6dda-4ad7-a254-25903657c95c",
   "metadata": {},
   "outputs": [],
   "source": []
  }
 ],
 "metadata": {
  "kernelspec": {
   "display_name": "Python 3 (ipykernel)",
   "language": "python",
   "name": "python3"
  },
  "language_info": {
   "codemirror_mode": {
    "name": "ipython",
    "version": 3
   },
   "file_extension": ".py",
   "mimetype": "text/x-python",
   "name": "python",
   "nbconvert_exporter": "python",
   "pygments_lexer": "ipython3",
   "version": "3.12.2"
  }
 },
 "nbformat": 4,
 "nbformat_minor": 5
}
