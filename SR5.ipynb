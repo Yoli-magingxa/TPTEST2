{
 "cells": [
  {
   "cell_type": "code",
   "execution_count": null,
   "id": "115a1159-6320-40d7-bf5e-f775837d664f",
   "metadata": {},
   "outputs": [],
   "source": [
    "import pandas as pd\n",
    "import numpy as np\n",
    "import seaborn as sns\n",
    "import matplotlib.pyplot as plt\n",
    "\n",
    "df = pd.read_csv(\"C:\\\\Users\\\\cash\\\\Downloads\\\\Informal_Settlement_Programme_-1898186875815614491.csv\")\n",
    "\n",
    "\n"
   ]
  },
  {
   "cell_type": "markdown",
   "id": "50f24460-5416-41e3-ad3f-6988a52e557c",
   "metadata": {},
   "source": [
    "Linear search performs well for small datasets or when the element being searched for is located near the beginning of the list. However, its performance degrades as the size of the dataset increases, especially for large datasets. This is because it needs to examine every element in the list, leading to a linear increase in time as the size of the list grows.\n",
    "\n",
    "Binary search is significantly faster than linear search for large datasets .This is because it reduces the search space by half with each iteration, resulting in a logarithmic time complexity. However, it requires the array to be sorted, which adds an initial overhead. Binary search performs exceptionally well for large datasets or when the element being searched for is located towards the middle or end of the list.\n",
    "\n"
   ]
  },
  {
   "cell_type": "code",
   "execution_count": null,
   "id": "0cafda60-6913-4ebc-be86-e967cfa319ec",
   "metadata": {},
   "outputs": [],
   "source": []
  }
 ],
 "metadata": {
  "kernelspec": {
   "display_name": "Python 3 (ipykernel)",
   "language": "python",
   "name": "python3"
  },
  "language_info": {
   "codemirror_mode": {
    "name": "ipython",
    "version": 3
   },
   "file_extension": ".py",
   "mimetype": "text/x-python",
   "name": "python",
   "nbconvert_exporter": "python",
   "pygments_lexer": "ipython3",
   "version": "3.12.2"
  }
 },
 "nbformat": 4,
 "nbformat_minor": 5
}
